{
 "cells": [
  {
   "cell_type": "markdown",
   "metadata": {},
   "source": [
    "## Lab-1 First Day"
   ]
  },
  {
   "cell_type": "markdown",
   "metadata": {},
   "source": [
    "# Experiment 1\n",
    "WAP to do basic arthematic operations.\n"
   ]
  },
  {
   "cell_type": "code",
   "execution_count": 20,
   "metadata": {},
   "outputs": [
    {
     "name": "stdout",
     "output_type": "stream",
     "text": [
      "Summation of 2  and 3 is 5\n",
      "Difference of 2  and 3 is -1\n",
      "Multiplication of 2  and 3 is 6\n",
      "Division of 2  and 3 is 0\n",
      "Power of 2  and 3 is 8\n"
     ]
    }
   ],
   "source": [
    "a= int(input(\"Enter First Nuber\"))\n",
    "b= int(input(\"Enter Second Number\"))\n",
    "sum= a+b\n",
    "diff=a-b\n",
    "mul=a*b\n",
    "div=a//b\n",
    "pow=a**b\n",
    "print(f'Summation of {a}  and {b} is {sum}')\n",
    "print(f'Difference of {a}  and {b} is {diff}')\n",
    "print(f'Multiplication of {a}  and {b} is {mul}')\n",
    "print(f'Division of {a}  and {b} is {div}')\n",
    "print(f'Power of {a}  and {b} is {pow}')"
   ]
  },
  {
   "cell_type": "markdown",
   "metadata": {},
   "source": [
    "# Experiment 2\n",
    "\n",
    "(A) WAP to find area and perimeter of a triangle when all the sides of the triangle are given.(Using Hereons Formula)\n"
   ]
  },
  {
   "cell_type": "code",
   "execution_count": 7,
   "metadata": {},
   "outputs": [
    {
     "name": "stdout",
     "output_type": "stream",
     "text": [
      "Area of Traingle is 6.0 and Perimeter is 12\n"
     ]
    }
   ],
   "source": [
    "import math\n",
    "a= int(input(\"Enter First  Side\"))\n",
    "b= int(input(\"Enter Second  Side\"))\n",
    "c= int(input(\"Enter Second  Side\"))\n",
    "s= (a+b+c)/2\n",
    "area=math.sqrt(s*(s-a)*(s-b)*(s-c))\n",
    "perimeter=a+b+c\n",
    "print(f'Area of Traingle is {area} and Perimeter is {perimeter}')\n"
   ]
  },
  {
   "cell_type": "markdown",
   "metadata": {},
   "source": [
    "# Experiment 3\n",
    "(B)    WAP to find area and perimeter of a triangle when all the sides of the triangle are given.(Using Hereo)\n"
   ]
  },
  {
   "cell_type": "code",
   "execution_count": 8,
   "metadata": {},
   "outputs": [
    {
     "name": "stdout",
     "output_type": "stream",
     "text": [
      "Angles of Traingle are 36.86989764584401 , 53.13010235415599 and 90.0\n"
     ]
    }
   ],
   "source": [
    "import math\n",
    "a= int(input(\"Enter First  Side\"))\n",
    "b= int(input(\"Enter Second  Side\"))\n",
    "c= int(input(\"Enter Second  Side\"))\n",
    "def angle(a,b,c):\n",
    "    return math.degrees(math.acos(((b**2)+(c**2)-(a**2))/(2*b*c)))\n",
    "alpha = angle(a,b,c)\n",
    "beta = angle(b,c,a)\n",
    "gamma = angle(c,a,b)\n",
    "print(f'Angles of Traingle are {alpha} , {beta} and {gamma}')\n"
   ]
  },
  {
   "cell_type": "markdown",
   "metadata": {},
   "source": [
    "# Experiment 4\n",
    "(B)    WAP to to convert temperature from degree celcius to farenheit\n"
   ]
  },
  {
   "cell_type": "code",
   "execution_count": 9,
   "metadata": {},
   "outputs": [
    {
     "name": "stdout",
     "output_type": "stream",
     "text": [
      "Temperatre in Farenheit is 113.0\n"
     ]
    }
   ],
   "source": [
    "c = float(input(\"Enter Temperature in C: \"))\n",
    "f = c*1.8 +32\n",
    "print(f'Temperatre in Farenheit is {f}')"
   ]
  },
  {
   "cell_type": "markdown",
   "metadata": {},
   "source": [
    "## Lab-2 STRING MANIPULATION"
   ]
  },
  {
   "cell_type": "markdown",
   "metadata": {},
   "source": [
    "# 1. If the given string S1= “Maha Bharat”, generate the following strings by manipulating S1.\n",
    "    a)“mAHA bHARAT”\n",
    "    b)“Bharat”\n",
    "    c)“BharatBharatBharat”\n",
    "    d)“Mera Bharat”\n",
    "    e)“Mera Bharat Mahan”\n"
   ]
  },
  {
   "cell_type": "code",
   "execution_count": 9,
   "metadata": {},
   "outputs": [
    {
     "name": "stdout",
     "output_type": "stream",
     "text": [
      "a)mAHA bHARAT\n",
      "b)Bharat\n",
      "b)BharatBharatBharat\n",
      "c)Mera Bharat\n",
      "d)Mera Bharat Mahan\n"
     ]
    }
   ],
   "source": [
    "s= \"Maha Bharat\"\n",
    "t=\"\"\n",
    "for i in s :\n",
    "        if 'a' <= i <= 'z':\n",
    "                t = t + i.upper()\n",
    "        elif 'A' <= i <= 'Z':\n",
    "                t= t + i.lower()\n",
    "        else:\n",
    "                t = t + i\n",
    "q = s[5:]\n",
    "r = q*3\n",
    "u = \"Mera \" + q\n",
    "v = u + \" Mahan\"\n",
    "print(f'a){t}')\n",
    "print(f'b){q}')\n",
    "print(f'c){r}')\n",
    "print(f'd){u}')\n",
    "print(f'e){v}')"
   ]
  },
  {
   "cell_type": "markdown",
   "metadata": {},
   "source": [
    "# 2.For the given string S=”Ba Ba Black Sheep”, determine the following using built in functions:\n",
    "        The length of the string S\n",
    "        The first occurrence of the letter ‘e’\n",
    "        The total number of occurrences of ‘a’\n",
    "        Generate “Ta Ta Black Sheep”\n"
   ]
  },
  {
   "cell_type": "code",
   "execution_count": 2,
   "metadata": {},
   "outputs": [
    {
     "name": "stdout",
     "output_type": "stream",
     "text": [
      "Length of s is 17\n",
      "First occurence of e is 14\n",
      "Total occurence of a is 3\n",
      "Ta Ta Black Sheep\n"
     ]
    }
   ],
   "source": [
    "s=\"Ba Ba Black Sheep\"\n",
    "t= \"Ta Ta \" + s[6:]\n",
    "print(f'Length of s is {len(s)}')\n",
    "print(f'First occurence of e is {s.index('e')}')\n",
    "print(f'Total occurence of a is {s.count('a')}')\n",
    "print(t)\n",
    "\n"
   ]
  },
  {
   "cell_type": "markdown",
   "metadata": {},
   "source": [
    "# 3.Write a python script to enter any string at run time and check whether it is a palindrome or not."
   ]
  },
  {
   "cell_type": "code",
   "execution_count": 17,
   "metadata": {},
   "outputs": [
    {
     "name": "stdout",
     "output_type": "stream",
     "text": [
      "Not a Palindrome\n"
     ]
    }
   ],
   "source": [
    "s = input(\"Enter String to check it is palindrome or not\")\n",
    "if (s== s[::-1]) :\n",
    "    print(\"Palindrome\")\n",
    "\n",
    "else :\n",
    "    print(\"Not a Palindrome\")"
   ]
  },
  {
   "cell_type": "markdown",
   "metadata": {},
   "source": [
    "# 4.Enter the following details of a student at run time: - Name, Roll number and marks secured for Mathematics Examination out of 100. Write a python script to display student details as shown:\n",
    "\n",
    "Name:\n",
    "Roll Number:\n",
    "Marks:\n",
    "Grade Point:\n",
    "Remark:\n",
    "\n",
    "The criteria for awarding grade point and remark are as given in the table:\n",
    "\n",
    "S. No.  Range of Marks      Grade Point          Remark\n",
    "1        >= 90                    10             OUTSTANDING\n",
    "2        90 > Marks >= 80         9              VERY GOOD\n",
    "3        80 > Marks >= 70         8              GOOD\n",
    "4        70 > Marks >= 60          7              AVERAGE\n",
    "5        60 > Marks >= 50         6              PASS\n",
    "6        Marks < 50               0              FAIL\n",
    "\n",
    "\n"
   ]
  },
  {
   "cell_type": "code",
   "execution_count": 18,
   "metadata": {},
   "outputs": [
    {
     "name": "stdout",
     "output_type": "stream",
     "text": [
      "\n",
      "Student Details:\n",
      "Name: Anil Alok\n",
      "Roll Number: 2023UG1022\n",
      "Marks: 87\n",
      "Grade Point: 9\n",
      "Remark: VERY GOOD\n"
     ]
    }
   ],
   "source": [
    "def determine_grade_point(marks):\n",
    "    if marks >= 90:\n",
    "        return 10, \"OUTSTANDING\"\n",
    "    elif 80 <= marks < 90:\n",
    "        return 9, \"VERY GOOD\"\n",
    "    elif 70 <= marks < 80:\n",
    "        return 8, \"GOOD\"\n",
    "    elif 60 <= marks < 70:\n",
    "        return 7, \"AVERAGE\"\n",
    "    elif 50 <= marks < 60:\n",
    "        return 6, \"PASS\"\n",
    "    else:\n",
    "        return 0, \"FAIL\"\n",
    "\n",
    "name = input(\"Enter student's name: \")\n",
    "roll_number = input(\"Enter student's roll number: \")\n",
    "marks = int(input(\"Enter marks secured in Mathematics (out of 100): \"))\n",
    "\n",
    "\n",
    "grade_point, remark = determine_grade_point(marks)\n",
    "\n",
    "print(\"\\nStudent Details:\")\n",
    "print(f\"Name: {name}\")\n",
    "print(f\"Roll Number: {roll_number}\")\n",
    "print(f\"Marks: {marks}\")\n",
    "print(f\"Grade Point: {grade_point}\")\n",
    "print(f\"Remark: {remark}\")\n"
   ]
  },
  {
   "cell_type": "markdown",
   "metadata": {},
   "source": [
    "# 5.Write a program to find the roots of a quadratic equation when the coefficients a, b and c are given ( assume that a, b and c are integers)\n",
    "Hint: find the discriminant d= b**2 − 4ac\n",
    "If d = 0, the equation has one real repeated root (both roots are the same: \n",
    "R1= R2 = -b/(2a)\n",
    "\n",
    "If d > 0, the equation has two distinct real roots.\n",
    "\tR1= (-b + sqrt(d))/2a\n",
    "R2= (-b - sqrt(d))/2a\n",
    " \n",
    "If d < 0, the equation has two complex roots.\n",
    "real_part = -b / (2 * a) \n",
    "imaginary_part = math.sqrt(-discriminant) / (2 * a)\n"
   ]
  },
  {
   "cell_type": "code",
   "execution_count": 1,
   "metadata": {},
   "outputs": [
    {
     "name": "stdout",
     "output_type": "stream",
     "text": [
      "The equation has two complex roots: -0.375 + 1.165922381636102i and -0.375 - 1.165922381636102i\n"
     ]
    }
   ],
   "source": [
    "import math\n",
    "a = int(input(\"Enter the coefficient a: \"))\n",
    "b = int(input(\"Enter the coefficient b: \"))\n",
    "c = int(input(\"Enter the coefficient c: \"))\n",
    "\n",
    "discriminant = b ** 2 - 4 * a * c\n",
    "\n",
    "if discriminant > 0:\n",
    "    R1 = (-b + math.sqrt(discriminant)) / (2 * a)\n",
    "    R2 = (-b - math.sqrt(discriminant)) / (2 * a)\n",
    "    print(f\"The equation has two distinct real roots: R1 = {R1}, R2 = {R2}\")\n",
    "elif discriminant == 0:\n",
    "   \n",
    "    R1 = R2 = -b / (2 * a)\n",
    "    print(f\"The equation has one real repeated root: R1 = R2 = {R1}\")\n",
    "else:\n",
    "  \n",
    "    real_part = -b / (2 * a)\n",
    "    imaginary_part = math.sqrt(-discriminant) / (2 * a)\n",
    "    print(f\"The equation has two complex roots: {real_part} + {imaginary_part}i and {real_part} - {imaginary_part}i\")\n"
   ]
  },
  {
   "cell_type": "markdown",
   "metadata": {},
   "source": [
    "## Lab-3 LOOP CONTROL INSTRUCTIONS"
   ]
  },
  {
   "cell_type": "markdown",
   "metadata": {},
   "source": [
    "# 1.Write a python script to find the squares of first n natural numbers. Display both the number and the square as shown below. Use while loop\n",
    "Number    \tSquare\n",
    "1              \t1\n",
    "2               4\n",
    "…\t\t        …\n",
    "n\t        \tn\n"
   ]
  },
  {
   "cell_type": "code",
   "execution_count": 1,
   "metadata": {},
   "outputs": [
    {
     "name": "stdout",
     "output_type": "stream",
     "text": [
      "Number\tSquare\n",
      "1\t\t1\n",
      "2\t\t4\n",
      "3\t\t9\n",
      "4\t\t16\n",
      "5\t\t25\n",
      "6\t\t36\n",
      "7\t\t49\n",
      "8\t\t64\n",
      "9\t\t81\n",
      "10\t\t100\n"
     ]
    }
   ],
   "source": [
    "n = int(input(\"Enter the value of n: \"))\n",
    "\n",
    "i = 1\n",
    "\n",
    "print(\"Number\\tSquare\")\n",
    "\n",
    "while i <= n:\n",
    "    print(f\"{i}\\t\\t{i * i}\")\n",
    "    i += 1\n"
   ]
  },
  {
   "cell_type": "markdown",
   "metadata": {},
   "source": [
    "# 2.Write a python script to find the sum of the digits of the given number using a while loop. Display the number and the sum."
   ]
  },
  {
   "cell_type": "code",
   "execution_count": 2,
   "metadata": {},
   "outputs": [
    {
     "name": "stdout",
     "output_type": "stream",
     "text": [
      "Number: 43578934\n",
      "Sum of digits: 43\n"
     ]
    }
   ],
   "source": [
    "number = int(input(\"Enter a number: \"))\n",
    "\n",
    "sum_of_digits = 0\n",
    "\n",
    "original_number = number\n",
    "while number > 0:\n",
    "    digit = number % 10     \n",
    "    sum_of_digits += digit  \n",
    "    number //= 10       \n",
    "print(f\"Number: {original_number}\")\n",
    "print(f\"Sum of digits: {sum_of_digits}\")\n"
   ]
  },
  {
   "cell_type": "markdown",
   "metadata": {},
   "source": [
    "# 3.Write a python script to print the first n terms of the Fibonacci series using while loop"
   ]
  },
  {
   "cell_type": "code",
   "execution_count": 1,
   "metadata": {},
   "outputs": [
    {
     "name": "stdout",
     "output_type": "stream",
     "text": [
      "Fibonacci series:\n",
      "0 1 1 2 3 5 8 13 21 34 55 89 144 233 377 610 987 1597 2584 4181 6765 10946 17711 28657 46368 75025 121393 196418 317811 514229 832040 1346269 2178309 3524578 5702887 9227465 14930352 24157817 39088169 63245986 102334155 165580141 267914296 433494437 701408733 "
     ]
    }
   ],
   "source": [
    "\n",
    "n = int(input(\"Enter the number of terms: \"))\n",
    "\n",
    "a, b = 0, 1\n",
    "\n",
    "count = 0\n",
    "\n",
    "print(\"Fibonacci series:\")\n",
    "\n",
    "while count < n:\n",
    "    print(a, end=\" \")  \n",
    "    a, b = b, a + b    \n",
    "    count += 1         \n"
   ]
  },
  {
   "cell_type": "markdown",
   "metadata": {},
   "source": [
    "# 4.Write a python script to print the multiplication table of a given number up to the specified limit using a for loop."
   ]
  },
  {
   "cell_type": "code",
   "execution_count": 4,
   "metadata": {},
   "outputs": [
    {
     "name": "stdout",
     "output_type": "stream",
     "text": [
      "Multiplication table of 50:\n",
      "50 x 1 = 50\n",
      "50 x 2 = 100\n",
      "50 x 3 = 150\n",
      "50 x 4 = 200\n",
      "50 x 5 = 250\n",
      "50 x 6 = 300\n",
      "50 x 7 = 350\n",
      "50 x 8 = 400\n",
      "50 x 9 = 450\n",
      "50 x 10 = 500\n"
     ]
    }
   ],
   "source": [
    "\n",
    "number = int(input(\"Enter the number: \"))\n",
    "limit = int(input(\"Enter the limit: \"))\n",
    "\n",
    "print(f\"Multiplication table of {number}:\")\n",
    "\n",
    "for i in range(1, limit + 1):\n",
    "    print(f\"{number} x {i} = {number * i}\")\n"
   ]
  },
  {
   "cell_type": "markdown",
   "metadata": {},
   "source": [
    "# 5.Write a python script to check whether all the characters present in a string are alphanumeric (uppercase letters, lowercase letters or digits) using for  with else. Print True if all characters are alphanumeric. Otherwise print False."
   ]
  },
  {
   "cell_type": "code",
   "execution_count": 4,
   "metadata": {},
   "outputs": [
    {
     "name": "stdout",
     "output_type": "stream",
     "text": [
      "True\n"
     ]
    }
   ],
   "source": [
    "\n",
    "string = input(\"Enter a string: \")\n",
    "\n",
    "for char in string:\n",
    "    if not char.isalnum():  \n",
    "        print(False)\n",
    "        break\n",
    "else:\n",
    "    print(True)\n"
   ]
  },
  {
   "cell_type": "markdown",
   "metadata": {},
   "source": [
    "# 6.Write a python script to find the number of occurrences of a particular character present in the given string using a loop. (Don’t use string methods)."
   ]
  },
  {
   "cell_type": "code",
   "execution_count": 3,
   "metadata": {},
   "outputs": [
    {
     "name": "stdout",
     "output_type": "stream",
     "text": [
      "The character 'kjlkljuoikopk' occurs 0 times in the string.\n"
     ]
    }
   ],
   "source": [
    "\n",
    "string = input(\"Enter a string: \")\n",
    "char_to_count = input(\"Enter the character to count: \")\n",
    "\n",
    "count = 0\n",
    "\n",
    "for char in string:\n",
    "    if char == char_to_count:\n",
    "        count += 1  \n",
    "print(f\"The character '{char_to_count}' occurs {count} times in the string.\")\n"
   ]
  },
  {
   "cell_type": "markdown",
   "metadata": {},
   "source": [
    "## LAB SESSION 4 CONTAINER TYPES IN PYTHON – LIST , SET"
   ]
  },
  {
   "cell_type": "markdown",
   "metadata": {},
   "source": [
    "# 1.Find the number of palindrome words in the given sentence without defining any new function (feel free to use python’s in-built functions)."
   ]
  },
  {
   "cell_type": "code",
   "execution_count": 6,
   "metadata": {},
   "outputs": [
    {
     "name": "stdout",
     "output_type": "stream",
     "text": [
      "4\n"
     ]
    }
   ],
   "source": [
    "sentence = \"Aa man a plan a canal ana Panamaa\"\n",
    "words = sentence.split()\n",
    "palindrome_count = sum(word.lower() == word[::-1].lower() for word in words)\n",
    "print(palindrome_count)\n"
   ]
  },
  {
   "cell_type": "markdown",
   "metadata": {},
   "source": [
    "# 2.Create a list of int using list comprehension [multiple input from keyboard].  Find the mean, median, and mode of the given list (usage of specific modules such as statistics is strictly prohibited. Lab problems are for you to build-up logic and strengthen your understanding of the topic & its concepts)."
   ]
  },
  {
   "cell_type": "code",
   "execution_count": 1,
   "metadata": {},
   "outputs": [
    {
     "name": "stdout",
     "output_type": "stream",
     "text": [
      "Mean: 28.0\n",
      "Median: 15\n",
      "Mode: [15]\n"
     ]
    }
   ],
   "source": [
    "input_str = input(\"Enter numbers separated by spaces: \")\n",
    "numbers = [int(num) for num in input_str.split()]\n",
    "\n",
    "mean = sum(numbers) / len(numbers)\n",
    "\n",
    "sorted_numbers = sorted(numbers)\n",
    "n = len(sorted_numbers)\n",
    "if n % 2 == 0:\n",
    "    median = (sorted_numbers[n // 2 - 1] + sorted_numbers[n // 2]) / 2\n",
    "else:\n",
    "    median = sorted_numbers[n // 2]\n",
    "\n",
    "frequency = {}\n",
    "for num in numbers:\n",
    "    frequency[num] = frequency.get(num, 0) + 1\n",
    "\n",
    "max_freq = max(frequency.values())\n",
    "modes = [num for num, freq in frequency.items() if freq == max_freq]\n",
    "\n",
    "if max_freq == 1:\n",
    "    mode = None\n",
    "else:\n",
    "    mode = modes\n",
    "\n",
    "print(f\"Mean: {mean}\")\n",
    "print(f\"Median: {median}\")\n",
    "print(f\"Mode: {mode}\")\n"
   ]
  },
  {
   "cell_type": "markdown",
   "metadata": {},
   "source": [
    "# 3.Generate 2 lists (course code and course name). create a new list with both course code and name like[\"CS1001:Python\",...]"
   ]
  },
  {
   "cell_type": "code",
   "execution_count": 4,
   "metadata": {},
   "outputs": [
    {
     "name": "stdout",
     "output_type": "stream",
     "text": [
      "['CS1001:Python', 'CS1002:Data Structures', 'CS1003:Algorithms']\n"
     ]
    }
   ],
   "source": [
    "course_codes = [\"CS1001\", \"CS1002\", \"CS1003\"]\n",
    "course_names = [\"Python\", \"Data Structures\", \"Algorithms\"]\n",
    "\n",
    "combined_courses = [f\"{code}:{name}\" for code, name in zip(course_codes, course_names)]\n",
    "\n",
    "print(combined_courses)\n"
   ]
  },
  {
   "cell_type": "markdown",
   "metadata": {},
   "source": [
    "# 4.Generate two sets – first for all singers and second for all dancers of the class using set comprehension. Perform set operations to generate the following sets \n",
    "of all artists of the class\n",
    "allrounders of the class\n",
    "dancers but not singers\n",
    "singers but not dancers\n",
    "dancers but not singers cum singers but not dancers\n"
   ]
  },
  {
   "cell_type": "code",
   "execution_count": 5,
   "metadata": {},
   "outputs": [
    {
     "name": "stdout",
     "output_type": "stream",
     "text": [
      "All Artists: {'Riya', 'Diya', 'Tanishq', 'Aanya', 'Aarav', 'Ishaan'}\n",
      "Allrounders: {'Diya', 'Aarav'}\n",
      "Dancers but not Singers: {'Tanishq', 'Riya'}\n",
      "Singers but not Dancers: {'Ishaan', 'Aanya'}\n",
      "Dancers but not Singers cum Singers but not Dancers: {'Ishaan', 'Aanya', 'Tanishq', 'Riya'}\n"
     ]
    }
   ],
   "source": [
    "singers = {\"Aarav\", \"Ishaan\", \"Aanya\", \"Diya\"}\n",
    "dancers = {\"Diya\", \"Riya\", \"Aarav\", \"Tanishq\"}\n",
    "\n",
    "all_artists = singers | dancers\n",
    "\n",
    "allrounders = singers & dancers\n",
    "\n",
    "dancers_not_singers = dancers - singers\n",
    "\n",
    "singers_not_dancers = singers - dancers\n",
    "\n",
    "unique_artists = dancers_not_singers | singers_not_dancers\n",
    "\n",
    "print(f\"All Artists: {all_artists}\")\n",
    "print(f\"Allrounders: {allrounders}\")\n",
    "print(f\"Dancers but not Singers: {dancers_not_singers}\")\n",
    "print(f\"Singers but not Dancers: {singers_not_dancers}\")\n",
    "print(f\"Dancers but not Singers cum Singers but not Dancers: {unique_artists}\")\n"
   ]
  },
  {
   "cell_type": "markdown",
   "metadata": {},
   "source": [
    "## LAB SESSION 5: TUPLES AND DICTIONARY"
   ]
  },
  {
   "cell_type": "markdown",
   "metadata": {},
   "source": [
    "# 1.Generate two tuples to represent two distinct points in space. (Three dimensional geometry). Determine the Euclidian distance between the two."
   ]
  },
  {
   "cell_type": "code",
   "execution_count": 6,
   "metadata": {},
   "outputs": [
    {
     "name": "stdout",
     "output_type": "stream",
     "text": [
      "The Euclidean distance between (1, 2, 3) and (4, 5, 6) is 5.20\n"
     ]
    }
   ],
   "source": [
    "import math\n",
    "\n",
    "point1 = (1, 2, 3) \n",
    "point2 = (4, 5, 6) \n",
    "\n",
    "distance = math.sqrt((point2[0] - point1[0]) ** 2 + \n",
    "                     (point2[1] - point1[1]) ** 2 + \n",
    "                     (point2[2] - point1[2]) ** 2)\n",
    "\n",
    "print(f\"The Euclidean distance between {point1} and {point2} is {distance:.2f}\")\n"
   ]
  },
  {
   "cell_type": "markdown",
   "metadata": {},
   "source": [
    "# 2.Generate three lists using list comprehension. List of names, list of Roll nos and list of marks for Physics exam for all students of the class. Create a list of tuples using the zip function where each tuple carries individual student details. Sort the list of tuples using a sorted function by keeping Marks as the key for sorting."
   ]
  },
  {
   "cell_type": "code",
   "execution_count": 16,
   "metadata": {},
   "outputs": [
    {
     "name": "stdout",
     "output_type": "stream",
     "text": [
      "Sorted Student Details (by Marks):\n",
      "('Student3', 'R03', 78)\n",
      "('Student1', 'R01', 85)\n",
      "('Student4', 'R04', 88)\n",
      "('Student5', 'R05', 90)\n",
      "('Student2', 'R02', 92)\n"
     ]
    }
   ],
   "source": [
    "names = [f\"Student{i}\" for i in range(1, 6)]  \n",
    "roll_nos = [f\"R{i:02d}\" for i in range(1, 6)] \n",
    "marks = [85, 92, 78, 88, 90] \n",
    "\n",
    "student_details = list(zip(names, roll_nos, marks))\n",
    "\n",
    "sorted_student_details = sorted(student_details, key=lambda x: x[2])\n",
    "\n",
    "print(\"Sorted Student Details (by Marks):\")\n",
    "for details in sorted_student_details:\n",
    "    print(details)\n"
   ]
  },
  {
   "cell_type": "markdown",
   "metadata": {},
   "source": [
    "# 3.Redo question 2 without using zip and sorted functions."
   ]
  },
  {
   "cell_type": "code",
   "execution_count": 2,
   "metadata": {},
   "outputs": [
    {
     "name": "stdout",
     "output_type": "stream",
     "text": [
      "Sorted Student Details (by Marks):\n",
      "('Student3', 'R03', 78)\n",
      "('Student1', 'R01', 85)\n",
      "('Student4', 'R04', 88)\n",
      "('Student5', 'R05', 90)\n",
      "('Student2', 'R02', 92)\n"
     ]
    }
   ],
   "source": [
    "names = [f\"Student{i}\" for i in range(1, 6)] \n",
    "roll_nos = [f\"R{i:02d}\" for i in range(1, 6)]  \n",
    "marks = [85, 92, 78, 88, 90]  \n",
    "\n",
    "student_details = []\n",
    "for i in range(len(names)):\n",
    "    student_details.append((names[i], roll_nos[i], marks[i]))\n",
    "\n",
    "for i in range(len(student_details)):\n",
    "    for j in range(0, len(student_details) - i - 1):\n",
    "        if student_details[j][2] > student_details[j + 1][2]:  \n",
    "            student_details[j], student_details[j + 1] = student_details[j + 1], student_details[j]\n",
    "\n",
    "print(\"Sorted Student Details (by Marks):\")\n",
    "for details in student_details:\n",
    "    print(details)\n"
   ]
  },
  {
   "cell_type": "markdown",
   "metadata": {},
   "source": [
    "# 4.Enter a string. Determine the count of each letter present in the string using the concept of dictionary"
   ]
  },
  {
   "cell_type": "code",
   "execution_count": 3,
   "metadata": {},
   "outputs": [
    {
     "name": "stdout",
     "output_type": "stream",
     "text": [
      "Letter counts:\n",
      "A: 3\n",
      "N: 1\n",
      "I: 2\n",
      "L: 2\n",
      "O: 4\n",
      "K: 1\n",
      "S: 1\n",
      "G: 1\n",
      "D: 1\n",
      "B: 1\n",
      "Y: 1\n"
     ]
    }
   ],
   "source": [
    "input_string = input(\"Enter a string: \")\n",
    "\n",
    "letter_count = {}\n",
    "\n",
    "for char in input_string:\n",
    "    if char.isalpha():  \n",
    "        char = char.lower()  \n",
    "        if char in letter_count:\n",
    "            letter_count[char] += 1 \n",
    "        else:\n",
    "            letter_count[char] = 1  \n",
    "\n",
    "print(\"Letter counts:\")\n",
    "for letter, count in letter_count.items():\n",
    "    print(f\"{letter.upper()}: {count}\")\n"
   ]
  },
  {
   "cell_type": "markdown",
   "metadata": {},
   "source": [
    "5. Equation of the straight line passing through two points:"
   ]
  },
  {
   "cell_type": "code",
   "execution_count": 8,
   "metadata": {},
   "outputs": [
    {
     "name": "stdout",
     "output_type": "stream",
     "text": [
      "The equation of the line is: (x - 2.0) = 0.0 * (y - 5.0)\n"
     ]
    }
   ],
   "source": [
    "# Input coordinates using comprehension\n",
    "x1, y1 = [float(i) for i in input(\"Enter coordinates of the first point (x1, y1): \").split()]\n",
    "x2, y2 = [float(i) for i in input(\"Enter coordinates of the second point (x2, y2): \").split()]\n",
    "\n",
    "# Equation: (x - x1) = ((x1 - x2)/(y1 - y2)) * (y - y1)\n",
    "if y2 != y1:\n",
    "    slope = (x2 - x1) / (y2 - y1)\n",
    "    print(f\"The equation of the line is: (x - {x1}) = {slope} * (y - {y1})\")\n",
    "else:\n",
    "    print(f\"The equation of the line is vertical: x = {x1}\")\n"
   ]
  },
  {
   "cell_type": "markdown",
   "metadata": {},
   "source": [
    "6. Count the number of each character in a string using a dictionary:"
   ]
  },
  {
   "cell_type": "code",
   "execution_count": 9,
   "metadata": {},
   "outputs": [
    {
     "name": "stdout",
     "output_type": "stream",
     "text": [
      "Character count: {'A': 2, 'n': 1, 'i': 1, 'l': 2, ' ': 4, 'o': 3, 'k': 1, 'H': 1, 'w': 1, 'a': 1, 'r': 1, 'e': 1, 'y': 1, 'u': 1}\n"
     ]
    }
   ],
   "source": [
    "input_string = input(\"Enter a string: \")\n",
    "\n",
    "char_count = {char: input_string.count(char) for char in input_string}\n",
    "\n",
    "print(\"Character count:\", char_count)\n"
   ]
  },
  {
   "cell_type": "markdown",
   "metadata": {},
   "source": [
    "7. Construct a list of tuples (with and without using zip()) from customer details"
   ]
  },
  {
   "cell_type": "code",
   "execution_count": 6,
   "metadata": {},
   "outputs": [
    {
     "name": "stdout",
     "output_type": "stream",
     "text": [
      "List of tuples without using zip(): [('anil', 22, 20), ('chiku', 30, 10), ('govin', 1, 5)]\n"
     ]
    }
   ],
   "source": [
    "name = [input(f\"Enter name {i+1}: \") for i in range(3)]\n",
    "roll = [int(input(f\"Enter roll no. {i+1}: \")) for i in range(3)]\n",
    "cgpa = [int(input(f\"Enter cgpa {i+1}: \")) for i in range(3)]\n",
    "data = [(name[i], roll[i], cgpa[i]) for i in range(3)]\n",
    "print(\"List of tuples without using zip():\", data)\n"
   ]
  },
  {
   "cell_type": "markdown",
   "metadata": {},
   "source": [
    "8. Sort the list of tuples (with and without using sorted() function):"
   ]
  },
  {
   "cell_type": "code",
   "execution_count": 7,
   "metadata": {},
   "outputs": [
    {
     "name": "stdout",
     "output_type": "stream",
     "text": [
      "Sorted list using sorted(): [('govin', 1, 5), ('chiku', 30, 10), ('anil', 22, 20)]\n",
      "Sorted list without using sorted(): [('govin', 1, 5), ('chiku', 30, 10), ('anil', 22, 20)]\n"
     ]
    }
   ],
   "source": [
    "\n",
    "sorted_data = sorted(data, key=lambda x: x[2])\n",
    "print(\"Sorted list using sorted():\", sorted_data)\n",
    "\n",
    "for i in range(len(data)):\n",
    "    for j in range(0, len(data) - i - 1):\n",
    "        if data[j][2] > data[j + 1][2]:\n",
    "            data[j], data[j + 1] = data[j + 1], data[j]\n",
    "\n",
    "print(\"Sorted list without using sorted():\", data)\n"
   ]
  },
  {
   "cell_type": "markdown",
   "metadata": {},
   "source": [
    "# LAB 6: FUNCTIONS"
   ]
  },
  {
   "cell_type": "markdown",
   "metadata": {},
   "source": [
    "##### 1. Define a function my_zip() that can form a list of tuples by iterating the following customer details:- ‘customer Name, customer ID , shopping points’ and based on the keyword parameter ‘strct’: If strct = True, zipping shall be done only if all lists are of equal length. If strct = False, zipping can be done by taking the minimum length of the iterable."
   ]
  },
  {
   "cell_type": "code",
   "execution_count": 2,
   "metadata": {},
   "outputs": [
    {
     "name": "stdout",
     "output_type": "stream",
     "text": [
      "[('Anil', 101, 1000), ('BANK', 102, 1500), ('Chai', 103, 1200)]\n",
      "[('Alice', 101, 1000), ('Bob', 102, 1500)]\n"
     ]
    }
   ],
   "source": [
    "def my_zip(names, ids, points, strct=True):\n",
    "    if strct:\n",
    "        if len(names) == len(ids) == len(points):\n",
    "            return list(zip(names, ids, points))\n",
    "        else:\n",
    "            raise ValueError(\"All lists must have the same length when strct is True\")\n",
    "    else:\n",
    "        min_length = min(len(names), len(ids), len(points))\n",
    "        return list(zip(names[:min_length], ids[:min_length], points[:min_length]))\n",
    "\n",
    "names = [\"Anil\", \"BANK\", \"Chai\"]\n",
    "ids = [101, 102, 103]\n",
    "points = [1000, 1500, 1200]\n",
    "\n",
    "print(my_zip(names, ids, points, strct=True))\n",
    "\n",
    "names_short = [\"Alice\", \"Bob\"]\n",
    "print(my_zip(names_short, ids, points, strct=False))\n"
   ]
  },
  {
   "cell_type": "markdown",
   "metadata": {},
   "source": [
    "##### 2. Define a function my_sort() to sort the list of tuples created using my_zip function in the last question. The function must have two types of arguments- the list that carry the data, the key that determines the argument of sorting:\n",
    "[Usage of built-in function sorted() is a punishable offense]\n",
    "Key = 0: sorting based on customer name in ascending order\n",
    "Key = 1: sorting based on Customer ID\n",
    "Key = 2: sorting based on shopping points"
   ]
  },
  {
   "cell_type": "code",
   "execution_count": 3,
   "metadata": {},
   "outputs": [
    {
     "name": "stdout",
     "output_type": "stream",
     "text": [
      "Sorted by Name: [('Anil', 103, 1000), ('Bank', 102, 1500), ('Chai', 101, 1200)]\n",
      "Sorted by ID: [('Chai', 101, 1200), ('Bank', 102, 1500), ('Anil', 103, 1000)]\n",
      "Sorted by Points: [('Anil', 103, 1000), ('Chai', 101, 1200), ('Bank', 102, 1500)]\n"
     ]
    }
   ],
   "source": [
    "def my_sort(data, key):\n",
    "    n = len(data)\n",
    "    \n",
    "    for i in range(n):\n",
    "        for j in range(0, n-i-1):\n",
    "            if key == 0:\n",
    "                if data[j][0] > data[j+1][0]:\n",
    "                    data[j], data[j+1] = data[j+1], data[j]\n",
    "            elif key == 1:\n",
    "                if data[j][1] > data[j+1][1]:\n",
    "                    data[j], data[j+1] = data[j+1], data[j]\n",
    "            elif key == 2:\n",
    "                if data[j][2] > data[j+1][2]:\n",
    "                    data[j], data[j+1] = data[j+1], data[j]\n",
    "    \n",
    "    return data\n",
    "\n",
    "names = [\"Anil\", \"Bank\", \"Chai\"]\n",
    "ids = [103, 102, 101]\n",
    "points = [1000, 1500, 1200]\n",
    "\n",
    "zipped_data = my_zip(names, ids, points, strct=True)\n",
    "\n",
    "sorted_by_name = my_sort(zipped_data, 0)\n",
    "print(\"Sorted by Name:\", sorted_by_name)\n",
    "\n",
    "sorted_by_id = my_sort(zipped_data, 1)\n",
    "print(\"Sorted by ID:\", sorted_by_id)\n",
    "\n",
    "sorted_by_points = my_sort(zipped_data, 2)\n",
    "print(\"Sorted by Points:\", sorted_by_points)\n"
   ]
  },
  {
   "cell_type": "markdown",
   "metadata": {},
   "source": [
    "#### 3. Write program to define a function my_max() to complete the following tasks: [Usage of built-in function max() is strictly prohibited]\n",
    "If a list of integers is passed as the input argument, the function shall return maximum value present in the list\n",
    "If a set is passed, maximum value present in the list\n",
    "If a tuple is passed, maximum value present in the tuple\n",
    "Hint: Pass the container type unpacked using *\n"
   ]
  },
  {
   "cell_type": "code",
   "execution_count": 4,
   "metadata": {},
   "outputs": [
    {
     "name": "stdout",
     "output_type": "stream",
     "text": [
      "Max value in list: 8\n",
      "Max value in set: 8\n",
      "Max value in tuple: 8\n"
     ]
    }
   ],
   "source": [
    "def my_max(*args):\n",
    "    max_value = None    \n",
    "    if len(args) != 1:\n",
    "        raise ValueError(\"Only one argument is allowed\")\n",
    "    \n",
    "    container = args[0]\n",
    "    if isinstance(container, (list, set, tuple)):\n",
    "        if len(container) == 0:\n",
    "            raise ValueError(\"Container is empty\")\n",
    "        \n",
    "        max_value = next(iter(container))  \n",
    "        \n",
    "        for item in container:\n",
    "            if item > max_value:\n",
    "                max_value = item\n",
    "    else:\n",
    "        raise ValueError(\"Input must be a list, set, or tuple\")\n",
    "    \n",
    "    return max_value\n",
    "lst = [3, 5, 7, 2, 8]\n",
    "print(\"Max value in list:\", my_max(lst))\n",
    "s = {3, 5, 7, 2, 8}\n",
    "print(\"Max value in set:\", my_max(s))\n",
    "t = (3, 5, 7, 2, 8)\n",
    "print(\"Max value in tuple:\", my_max(t))\n"
   ]
  },
  {
   "cell_type": "markdown",
   "metadata": {},
   "source": [
    "#### 4. Write a python script using map, lambda and filter functions to do the following operations on a user inputted comma separated strings: E.g.: “Tom 25 Rahu22 2@$” \n",
    "To find all the letters given in the string and to convert them to uppercase\n",
    "o/p: [‘TOM’]\n",
    "To find all the digits present in the string and to find their squares\n",
    "o/p: [625]\n",
    "To display all the alphanumeric characters present in the string\n",
    "o/p: [“Tom”, ‘25’, “Rahu22”]\n"
   ]
  },
  {
   "cell_type": "code",
   "execution_count": 6,
   "metadata": {},
   "outputs": [
    {
     "name": "stdout",
     "output_type": "stream",
     "text": [
      "Uppercase Letters: ['T', 'O', 'M', 'R', 'A', 'H', 'U']\n",
      "Squared Digits: [4, 25, 4, 4, 4]\n",
      "Alphanumeric Characters: ['T', 'o', 'm', '2', '5', 'R', 'a', 'h', 'u', '2', '2', '2']\n"
     ]
    }
   ],
   "source": [
    "\n",
    "input_string = \"Tom 25 Rahu22 2@$\"\n",
    "\n",
    "letters = filter(lambda x: x.isalpha(), input_string)  \n",
    "uppercase_letters = list(map(lambda x: x.upper(), letters)) \n",
    "print(\"Uppercase Letters:\", uppercase_letters)\n",
    "\n",
    "digits = filter(lambda x: x.isdigit(), input_string)  \n",
    "squared_digits = list(map(lambda x: int(x)**2, digits))  \n",
    "print(\"Squared Digits:\", squared_digits)\n",
    "\n",
    "alphanumeric = filter(lambda x: x.isalnum(), input_string)  \n",
    "alphanumeric_words = list(alphanumeric)  \n",
    "print(\"Alphanumeric Characters:\", alphanumeric_words)\n"
   ]
  },
  {
   "cell_type": "markdown",
   "metadata": {},
   "source": [
    "# Lab 7 – Data Visualization using matplotlib"
   ]
  },
  {
   "cell_type": "markdown",
   "metadata": {},
   "source": [
    "#### Q1 Show party wise seat share for following results of the Assembly Elections 2023 in\n",
    "Two different pie charts on two different plots. Party with highest percentage should be shown as slightly detached ( show the percentage seat share on each wedge )\n",
    "Two pie charts as subplots on the same figure object\n",
    "As a bar chart with party name on X axis and seats won on y axis. Show results of both the states on the same bar plot. Give proper legends\n",
    "Madhya Pradesh\n",
    "BJP - Win (163) INC - Win (66) BSP – Win ( 0) Others – Win (1)\n",
    "Rajasthan\n",
    "INC - Win (69) BJP- Win (115) BSP- Win (2) Others-Win (13)\n"
   ]
  },
  {
   "cell_type": "code",
   "execution_count": 7,
   "metadata": {},
   "outputs": [
    {
     "data": {
      "image/png": "[encoded data removed]",
      "text/plain": [
       "<Figure size 1400x700 with 2 Axes>"
      ]
     },
     "metadata": {},
     "output_type": "display_data"
    },
    {
     "data": {
      "image/png": "[encoded data removed]",
      "text/plain": [
       "<Figure size 1000x600 with 1 Axes>"
      ]
     },
     "metadata": {},
     "output_type": "display_data"
    }
   ],
   "source": [
    "import matplotlib.pyplot as plt\n",
    "\n",
    "mp_parties = ['BJP', 'INC', 'BSP', 'Others']\n",
    "mp_seats = [163, 66, 0, 1]\n",
    "\n",
    "raj_parties = ['INC', 'BJP', 'BSP', 'Others']\n",
    "raj_seats = [69, 115, 2, 13]\n",
    "\n",
    "mp_total_seats = sum(mp_seats)\n",
    "raj_total_seats = sum(raj_seats)\n",
    "\n",
    "fig, axs = plt.subplots(1, 2, figsize=(14, 7))\n",
    "\n",
    "axs[0].pie(mp_seats, labels=mp_parties, autopct='%1.1f%%', startangle=90, explode=[0.1, 0, 0, 0])\n",
    "axs[0].set_title('Madhya Pradesh - Seat Share')\n",
    "axs[0].axis('equal') \n",
    "axs[1].pie(raj_seats, labels=raj_parties, autopct='%1.1f%%', startangle=90, explode=[0.1, 0, 0, 0])\n",
    "axs[1].set_title('Rajasthan - Seat Share')\n",
    "axs[1].axis('equal') \n",
    "plt.tight_layout()\n",
    "plt.show()\n",
    "\n",
    "fig, ax = plt.subplots(figsize=(10, 6))\n",
    "\n",
    "bar_width = 0.35\n",
    "\n",
    "index = range(len(mp_parties))\n",
    "\n",
    "mp_bars = ax.bar(index, mp_seats, bar_width, label='Madhya Pradesh', color='b')\n",
    "raj_bars = ax.bar([p + bar_width for p in index], raj_seats, bar_width, label='Rajasthan', color='r')\n",
    "\n",
    "ax.set_xlabel('Party')\n",
    "ax.set_ylabel('Seats Won')\n",
    "ax.set_title('Seats Won by Each Party in Madhya Pradesh and Rajasthan')\n",
    "ax.set_xticks([p + bar_width / 2 for p in index])\n",
    "ax.set_xticklabels(mp_parties) \n",
    "ax.legend()\n",
    "\n",
    "plt.tight_layout()\n",
    "plt.show()\n"
   ]
  },
  {
   "cell_type": "markdown",
   "metadata": {},
   "source": [
    "#### Q2. Write a python script to\n",
    "Form a list of K random numbers within a limit N where K and N are set by the user. Minimum value of K should be 10.\n",
    "Define a function (or two functions) to return the composite numbers and prime numbers of this list as two separate lists.\n",
    "Determine the square of all prime numbers and square root of all composite numbers\n",
    "Plot both prime numbers Vs their squares and composites Vs their square roots on the same figure object as scatterplots. ( two different subplots on the same figure object)\n"
   ]
  },
  {
   "cell_type": "code",
   "execution_count": 11,
   "metadata": {},
   "outputs": [
    {
     "data": {
      "image/png": "[encoded data removed]",
      "text/plain": [
       "<Figure size 1400x700 with 2 Axes>"
      ]
     },
     "metadata": {},
     "output_type": "display_data"
    }
   ],
   "source": [
    "import random\n",
    "import math\n",
    "import matplotlib.pyplot as plt\n",
    "\n",
    "# Function to check if a number is prime\n",
    "def is_prime(n):\n",
    "    if n <= 1:\n",
    "        return False\n",
    "    for i in range(2, int(math.sqrt(n)) + 1):\n",
    "        if n % i == 0:\n",
    "            return False\n",
    "    return True\n",
    "\n",
    "# Function to classify numbers as prime or composite\n",
    "def classify_numbers(numbers):\n",
    "    primes = []\n",
    "    composites = []\n",
    "    for number in numbers:\n",
    "        if is_prime(number):\n",
    "            primes.append(number)\n",
    "        elif number > 1:  # Exclude 1 as it's neither prime nor composite\n",
    "            composites.append(number)\n",
    "    return primes, composites\n",
    "\n",
    "# Function to generate a list of K random numbers within limit N\n",
    "def generate_random_numbers(K, N):\n",
    "    return random.sample(range(1, N+1), K)\n",
    "\n",
    "# User input for K (number of random numbers) and N (limit)\n",
    "K = int(input(\"Enter the number of random numbers (K): \"))\n",
    "N = int(input(\"Enter the upper limit (N): \"))\n",
    "\n",
    "# Ensure K is at least 10\n",
    "if K < 10:\n",
    "    print(\"K should be at least 10. Setting K to 10.\")\n",
    "    K = 10\n",
    "\n",
    "# Step 1: Generate a list of K random numbers within limit N\n",
    "random_numbers = generate_random_numbers(K, N)\n",
    "\n",
    "# Step 2: Classify the numbers into prime and composite\n",
    "primes, composites = classify_numbers(random_numbers)\n",
    "\n",
    "# Step 3: Calculate the squares of primes and square roots of composites\n",
    "prime_squares = [x**2 for x in primes]\n",
    "composite_square_roots = [math.sqrt(x) for x in composites]\n",
    "\n",
    "# Step 4: Plotting the results in subplots\n",
    "\n",
    "# Create a figure with two subplots\n",
    "fig, axs = plt.subplots(1, 2, figsize=(14, 7))\n",
    "\n",
    "# Prime numbers vs their squares\n",
    "axs[0].scatter(primes, prime_squares, color='blue')\n",
    "axs[0].set_title('Prime Numbers vs Their Squares')\n",
    "axs[0].set_xlabel('Prime Numbers')\n",
    "axs[0].set_ylabel('Squares of Prime Numbers')\n",
    "\n",
    "# Composite numbers vs their square roots\n",
    "axs[1].scatter(composites, composite_square_roots, color='red')\n",
    "axs[1].set_title('Composite Numbers vs Their Square Roots')\n",
    "axs[1].set_xlabel('Composite Numbers')\n",
    "axs[1].set_ylabel('Square Roots of Composite Numbers')\n",
    "\n",
    "# Show the plot\n",
    "plt.tight_layout()\n",
    "plt.show()\n"
   ]
  },
  {
   "cell_type": "markdown",
   "metadata": {},
   "source": [
    "# Lab 8 – NUMPY AND MULTIDIMENSIONAL ARRAYS "
   ]
  },
  {
   "cell_type": "markdown",
   "metadata": {},
   "source": [
    "Q1. You are given a dataset that contains daily COVID-19 cases for five countries over a 7-day period. Each row represents a day, and each column represents a country. The data is as follows:\n",
    "covid_data = np.array([ [1500, 2000, 1800, 1200, 900], # Day 1 \n",
    "[1600, 2100, 1900, 1300, 950], \t# Day 2 \n",
    "[1700, 2200, 2000, 1400, 1000], \t# Day 3 \n",
    "[1650, 2150, 1950, 1350, 980], \t# Day 4 \n",
    "[1750, 2250, 2050, 1450, 1020], \t# Day 5 \n",
    "[1800, 2300, 2100, 1500, 1050], \t# Day 6 \n",
    "[1900, 2400, 2200, 1600, 1100], \t# Day 7 \n",
    "])\n",
    "Each column corresponds to:\n",
    "Country 1: Country_A\n",
    "Country 2: Country_B\n",
    "Country 3: Country_C\n",
    "Country 4: Country_D\n",
    "Country 5: Country_E\n",
    "Perform following tasks:\n",
    "Basic Statistics:\n",
    "Calculate the total number of cases reported in each country over the 7 days.\n",
    "Determine the country with the highest total cases.\n",
    "Daily Analysis:\n",
    "Calculate the average number of cases reported per day across all countries.\n",
    "Identify the day with the highest total number of cases across all countries.\n",
    "Trends:\n",
    "Calculate the percentage increase or decrease in cases for each country from Day 1 to Day 7.\n",
    "Find the country with the highest percentage increase.\n",
    "Data Transformation:\n",
    "Normalize the data (scale all values between 0 and 1) for each country to compare trends more effectively.\n",
    "Provide the normalized dataset.\n",
    "Visualize the data:\n",
    "A line chart showing daily cases for each country\n",
    "Highlight the day with the highest total cases across all countries using an annotation or marker.\n"
   ]
  },
  {
   "cell_type": "code",
   "execution_count": 1,
   "metadata": {},
   "outputs": [
    {
     "name": "stdout",
     "output_type": "stream",
     "text": [
      "Basic Statistics:\n",
      "Total cases in Country_A: 11900\n",
      "Total cases in Country_B: 15400\n",
      "Total cases in Country_C: 14000\n",
      "Total cases in Country_D: 9800\n",
      "Total cases in Country_E: 7000\n",
      "Country with the highest total cases: Country_B (15400 cases)\n",
      "\n",
      "Daily Analysis:\n",
      "Average cases on Day 1: 1480.0\n",
      "Average cases on Day 2: 1570.0\n",
      "Average cases on Day 3: 1660.0\n",
      "Average cases on Day 4: 1616.0\n",
      "Average cases on Day 5: 1704.0\n",
      "Average cases on Day 6: 1750.0\n",
      "Average cases on Day 7: 1840.0\n",
      "Day with the highest total cases: Day 7 (9200 cases)\n",
      "\n",
      "Trends:\n",
      "Percentage change for Country_A from Day 1 to Day 7: 26.67%\n",
      "Percentage change for Country_B from Day 1 to Day 7: 20.00%\n",
      "Percentage change for Country_C from Day 1 to Day 7: 22.22%\n",
      "Percentage change for Country_D from Day 1 to Day 7: 33.33%\n",
      "Percentage change for Country_E from Day 1 to Day 7: 22.22%\n",
      "Country with the highest percentage increase: Country_D (33.33%)\n"
     ]
    }
   ],
   "source": [
    "import numpy as np\n",
    "import matplotlib.pyplot as plt\n",
    "\n",
    "# Given data\n",
    "covid_data = np.array([\n",
    "    [1500, 2000, 1800, 1200, 900],  # Day 1\n",
    "    [1600, 2100, 1900, 1300, 950],  # Day 2\n",
    "    [1700, 2200, 2000, 1400, 1000],  # Day 3\n",
    "    [1650, 2150, 1950, 1350, 980],   # Day 4\n",
    "    [1750, 2250, 2050, 1450, 1020],  # Day 5\n",
    "    [1800, 2300, 2100, 1500, 1050],  # Day 6\n",
    "    [1900, 2400, 2200, 1600, 1100]   # Day 7\n",
    "])\n",
    "\n",
    "countries = ['Country_A', 'Country_B', 'Country_C', 'Country_D', 'Country_E']\n",
    "days = ['Day 1', 'Day 2', 'Day 3', 'Day 4', 'Day 5', 'Day 6', 'Day 7']\n",
    "\n",
    "# Basic Statistics\n",
    "total_cases_per_country = np.sum(covid_data, axis=0)\n",
    "max_cases_index = np.argmax(total_cases_per_country)\n",
    "max_cases_country = countries[max_cases_index]\n",
    "max_cases = total_cases_per_country[max_cases_index]\n",
    "\n",
    "print(\"Basic Statistics:\")\n",
    "for country, total_cases in zip(countries, total_cases_per_country):\n",
    "    print(f\"Total cases in {country}: {total_cases}\")\n",
    "print(f\"Country with the highest total cases: {max_cases_country} ({max_cases} cases)\")\n",
    "\n",
    "# Daily Analysis\n",
    "average_cases_per_day = np.mean(covid_data, axis=1)\n",
    "total_cases_per_day = np.sum(covid_data, axis=1)\n",
    "max_cases_day_index = np.argmax(total_cases_per_day)\n",
    "max_cases_day = days[max_cases_day_index]\n",
    "max_cases_day_total = total_cases_per_day[max_cases_day_index]\n",
    "\n",
    "print(\"\\nDaily Analysis:\")\n",
    "for day, avg_cases in zip(days, average_cases_per_day):\n",
    "    print(f\"Average cases on {day}: {avg_cases}\")\n",
    "print(f\"Day with the highest total cases: {max_cases_day} ({max_cases_day_total} cases)\")\n",
    "\n",
    "# Trends\n",
    "percentage_change = ((covid_data[6] - covid_data[0]) / covid_data[0]) * 100\n",
    "max_percentage_change_index = np.argmax(percentage_change)\n",
    "max_percentage_change_country = countries[max_percentage_change_index]\n",
    "max_percentage_change = percentage_change[max_percentage_change_index]\n",
    "\n",
    "print(\"\\nTrends:\")\n",
    "for country, change in zip(countries, percentage_change):\n",
    "    print(f\"Percentage change for {country} from Day 1 to Day 7: {change:.2f}%\")\n",
    "print(f\"Country with the highest percentage increase: {max_percentage_change_country} ({max_percentage_change:.2f}%)\")\n",
    "\n",
    "# Data Transformation (Normalization)\n",
    "normalized_data = (covid_data - covid_data.min(axis=0)) / (covid_data.max(axis=0) - covid_data.min(axis=0))\n"
   ]
  },
  {
   "cell_type": "code",
   "execution_count": null,
   "metadata": {},
   "outputs": [],
   "source": []
  }
 ],
 "metadata": {
  "kernelspec": {
   "display_name": "Python 3",
   "language": "python",
   "name": "python3"
  },
  "language_info": {
   "codemirror_mode": {
    "name": "ipython",
    "version": 3
   },
   "file_extension": ".py",
   "mimetype": "text/x-python",
   "name": "python",
   "nbconvert_exporter": "python",
   "pygments_lexer": "ipython3",
   "version": "3.12.6"
  }
 },
 "nbformat": 4,
 "nbformat_minor": 2
}
